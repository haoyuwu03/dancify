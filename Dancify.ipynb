{
  "nbformat": 4,
  "nbformat_minor": 0,
  "metadata": {
    "colab": {
      "name": "Dancify.ipynb",
      "provenance": [],
      "include_colab_link": true
    },
    "kernelspec": {
      "display_name": "Python 3",
      "name": "python3"
    },
    "language_info": {
      "name": "python"
    },
    "accelerator": "GPU"
  },
  "cells": [
    {
      "cell_type": "markdown",
      "metadata": {
        "id": "view-in-github",
        "colab_type": "text"
      },
      "source": [
        "<a href=\"https://colab.research.google.com/github/haoyuwu03/dancify/blob/main/Dancify.ipynb\" target=\"_parent\"><img src=\"https://colab.research.google.com/assets/colab-badge.svg\" alt=\"Open In Colab\"/></a>"
      ]
    },
    {
      "cell_type": "code",
      "metadata": {
        "id": "BtXVKstlAKeX",
        "colab": {
          "base_uri": "https://localhost:8080/"
        },
        "outputId": "698bc0e0-ac50-4bb4-b0ea-f58736b4d1cc"
      },
      "source": [
        "from google.colab import drive\n",
        "drive.mount('/content/drive')"
      ],
      "execution_count": null,
      "outputs": [
        {
          "output_type": "stream",
          "name": "stdout",
          "text": [
            "Mounted at /content/drive\n"
          ]
        }
      ]
    },
    {
      "cell_type": "code",
      "metadata": {
        "id": "6SFWeSatGARI"
      },
      "source": [
        "# import the necessary packages\n",
        "from imutils.video import VideoStream\n",
        "import argparse\n",
        "import datetime\n",
        "import imutils\n",
        "import time\n",
        "import cv2\n",
        "from google.colab.patches import cv2_imshow\n",
        "import numpy as np\n",
        "# construct the argument parser and parse the arguments\n",
        "#ap = argparse.ArgumentParser()\n",
        "#ap.add_argument(\"-v\", \"--video\", help=\"drive/MyDrive/Videos/dance.MOV\")\n",
        "#ap.add_argument(\"-a\", \"--min-area\", type=int, default=500, help=\"minimum area size\")\n",
        "#args = vars(ap.parse_args())\n",
        "\n",
        "#reading from a video file\n",
        "vs = cv2.VideoCapture(\"drive/MyDrive/newDingga.mp4\")\n",
        "# initialize the first frame in the video stream\n",
        "firstFrame = vs.read()[1]\n",
        "frameWidth = firstFrame.shape[1]\n",
        "frameHeight = firstFrame.shape[0]\n",
        "# Change rate to slow down or speed up video (1=full speed)\n",
        "rate = 1\n",
        "fps = 30*rate # 30 fps is full speed\n",
        "vid_writer = cv2.VideoWriter('drive/MyDrive/dinggaDancify.mp4',cv2.VideoWriter_fourcc(*'MP4V'), fps, (frameWidth,frameHeight))"
      ],
      "execution_count": null,
      "outputs": []
    },
    {
      "cell_type": "code",
      "metadata": {
        "id": "2Hlfnfn7AsRg"
      },
      "source": [
        "# Specify the paths for the 2 files\n",
        "protoFile = \"drive/MyDrive/Scale and Coin/models/pose/coco/pose_deploy_linevec.prototxt\"\n",
        "weightsFile = \"drive/MyDrive/Scale and Coin/models/pose/coco/pose_iter_440000.caffemodel\"\n",
        "# Read the network into Memory\n",
        "net = cv2.dnn.readNetFromCaffe(protoFile, weightsFile)\n",
        "# Using MPI model\n",
        "nPoints = 18\n",
        "# Specify the input image dimensions\n",
        "inWidth = 368\n",
        "inHeight = 368\n",
        "# Specify the threshold\n",
        "threshold = 0.01\n",
        "# Point pairs to draw line between for skeleton\n",
        "#Right Shoulder – 2, Right Elbow – 3, Right Wrist – 4, Left Shoulder – 5, Left Elbow – 6, Left Wrist – 7, \n",
        "#Right Hip – 8, Right Knee – 9, Right Ankle – 10, Left Hip – 11, Left Knee – 12, LAnkle – 13\n",
        "POSE_PAIRS = [ [1,0],[0,14],[0,15],[14,16],[15,17]]\n",
        "RIGHT_POSE_PAIRS = [[1,2],[2,3],[3,4],[1,8],[8,9],[9,10]]\n",
        "LEFT_POSE_PAIRS = [[1,5],[5,6],[6,7],[1,11],[11,12],[12,13]]"
      ],
      "execution_count": null,
      "outputs": []
    },
    {
      "cell_type": "code",
      "metadata": {
        "id": "C2WpSfmKBH_s"
      },
      "source": [
        "frames_before_update = 6 #number of frames before calculating new points\n",
        "frameCount = frames_before_update\n",
        "maxFrames = 5000\n",
        "count = 0\n",
        "last = -1\n",
        "# List to store detected keypoints\n",
        "points = []\n",
        "# loop over the frames of the video\n",
        "while True:\n",
        "    if count <= last:\n",
        "        continue\n",
        "    if count >= maxFrames:\n",
        "        break\n",
        "    count += 1\n",
        "    frameCount+=1\n",
        "    # grab the current frame\n",
        "    frame = vs.read()\n",
        "    frame = frame[1]\n",
        "    frameCopy = np.copy(frame)\n",
        "    # if the frame could not be grabbed, then we have reached the end\n",
        "\t# of the video\n",
        "    if frame is None:\n",
        "        break\n",
        "    if frameCount > frames_before_update:\n",
        "        frameCount = 0;\n",
        "        # Clear points to store new points\n",
        "        points = []\n",
        "        # Prepare the frame to be fed to the network\n",
        "        inpBlob = cv2.dnn.blobFromImage(frame, 1.0 / 255, (inWidth, inHeight),\n",
        "                                    (0,0,0), swapRB=False, crop=False)\n",
        "        # Set the prepared object as the input blob of the network\n",
        "        net.setInput(inpBlob)\n",
        "\n",
        "        # Make predictions on where the body joints are\n",
        "        output = net.forward()\n",
        "\n",
        "        # Get height and width of prediction\n",
        "        H = output.shape[2]\n",
        "        W = output.shape[3]\n",
        "\n",
        "        for i in range(nPoints):\n",
        "            # confidence map of corresponding joint location\n",
        "            probMap = output[0, i, :, :]\n",
        "\n",
        "            # Find global maxima of the probMap\n",
        "            minVal, prob, minLoc, point = cv2.minMaxLoc(probMap)\n",
        "\n",
        "            # Scale the point to fit on the original image\n",
        "            x = (frameWidth * point[0]) / W\n",
        "            y = (frameHeight * point[1]) / H\n",
        "\n",
        "            # If the probability is greater than the threshold, draw the point and add to list\n",
        "            if prob > threshold:\n",
        "                # CHANGE THESE LINES TO DESIGN POINTS\n",
        "                cv2.circle(frameCopy, (int(x),int(y)), 8, (0, 255, 255), thickness=1, \n",
        "                       lineType=cv2.FILLED)\n",
        "                cv2.putText(frameCopy, \"{}\".format(i), (int(x), int(y)), cv2.FONT_HERSHEY_SIMPLEX, \n",
        "                        1, (0, 0, 255), 2, lineType=cv2.LINE_AA)\n",
        "                points.append((int(x), int(y)))\n",
        "\n",
        "            else:\n",
        "                points.append(None)\n",
        "    # Draw skeleton between center points\n",
        "    \"\"\"for pair in POSE_PAIRS:\n",
        "        partA = pair[0]\n",
        "        partB = pair[1]\n",
        "\n",
        "        if points[partA] and points[partB]:\n",
        "            # CHANGE THESE LINES TO DESIGN SKELETON\n",
        "            cv2.line(frame, points[partA], points[partB], (224, 224, 224), 3, lineType=cv2.LINE_AA)\n",
        "            cv2.circle(frame, points[partA], 8, (178, 102, 255), thickness=-1, lineType=cv2.FILLED)\n",
        "            cv2.circle(frame, points[partB], 8, (178, 102, 255), thickness=-1, lineType=cv2.FILLED)\"\"\"\n",
        "    # Draw skeleton between right points\n",
        "    for pair in RIGHT_POSE_PAIRS:\n",
        "        partA = pair[0]\n",
        "        partB = pair[1]\n",
        "\n",
        "        if points[partA] and points[partB]:\n",
        "            # CHANGE THESE LINES TO DESIGN SKELETON\n",
        "            cv2.line(frame, points[partA], points[partB], (255, 204, 153), 30, lineType=cv2.LINE_AA)\n",
        "            cv2.circle(frame, points[partA], 8, (255, 178, 102), thickness=-1, lineType=cv2.FILLED)\n",
        "            cv2.circle(frame, points[partB], 8, (255, 178, 102), thickness=-1, lineType=cv2.FILLED)\n",
        "    # Draw skeleton between left points\n",
        "    for pair in LEFT_POSE_PAIRS:\n",
        "        partA = pair[0]\n",
        "        partB = pair[1]\n",
        "\n",
        "        if points[partA] and points[partB]:\n",
        "            # CHANGE THESE LINES TO DESIGN SKELETON\n",
        "            cv2.line(frame, points[partA], points[partB], (255, 153, 204), 30, lineType=cv2.LINE_AA)\n",
        "            cv2.circle(frame, points[partA], 8, (255, 102, 178), thickness=-1, lineType=cv2.FILLED)\n",
        "            cv2.circle(frame, points[partB], 8, (255, 102, 178), thickness=-1, lineType=cv2.FILLED)\n",
        "    # Add text to frame\n",
        "    cv2.putText(frame, \"hey there sexy you're looking good ;)\", (50, 50), cv2.FONT_HERSHEY_COMPLEX, .8, (255, 204, 153), 2, lineType=cv2.LINE_AA)\n",
        "\n",
        "    # Show frame\n",
        "    cv2_imshow(frame)\n",
        "\n",
        "    # Write frame to video\n",
        "    vid_writer.write(frame)\n",
        "\n",
        "vid_writer.release()"
      ],
      "execution_count": null,
      "outputs": []
    },
    {
      "cell_type": "markdown",
      "metadata": {
        "id": "57cm27vPHFuc"
      },
      "source": [
        "OLD MOTION DETECTION"
      ]
    },
    {
      "cell_type": "code",
      "metadata": {
        "id": "wSR1kSLSJEuh"
      },
      "source": [
        "frameCount = 0\n",
        "firstFrame = None\n",
        "# loop over the frames of the video\n",
        "while True:\n",
        "    frameCount+=1\n",
        "    # grab the current frame\n",
        "    frame = vs.read()\n",
        "    frame = frame[1]\n",
        "    text = \"Unoccupied\"\n",
        "    # if the frame could not be grabbed, then we have reached the end\n",
        "\t# of the video\n",
        "    if frame is None:\n",
        "        break\n",
        "    # resize the frame, convert it to grayscale, and blur it\n",
        "    frame = imutils.resize(frame,width=500)\n",
        "    gray = cv2.cvtColor(frame, cv2.COLOR_BGR2GRAY)\n",
        "    gray = cv2.GaussianBlur(gray,(21,21),0)\n",
        "    # if the first frame is None, initialize it\n",
        "    if firstFrame is None:\n",
        "        firstFrame = gray\n",
        "        continue\n",
        "    # compute the absolute difference between the current frame and\n",
        "\t# first frame\n",
        "    frameDelta = cv2.absdiff(firstFrame, gray)\n",
        "    thresh = cv2.threshold(frameDelta, 25, 255, cv2.THRESH_BINARY)[1]\n",
        "\t# dilate the thresholded image to fill in holes, then find contours\n",
        "\t# on thresholded image\n",
        "    thresh = cv2.dilate(thresh, None, iterations=2)\n",
        "    cnts = cv2.findContours(thresh.copy(), cv2.RETR_EXTERNAL,\n",
        "\t\tcv2.CHAIN_APPROX_SIMPLE)\n",
        "    cnts = imutils.grab_contours(cnts)\n",
        "\t# loop over the contours\n",
        "    for c in cnts:\n",
        "\t\t# if the contour is too small, ignore it\n",
        "        if cv2.contourArea(c) < 500:\n",
        "            continue\n",
        "\t\t# compute the bounding box for the contour, draw it on the frame,\n",
        "\t\t# and update the text\n",
        "        (x, y, w, h) = cv2.boundingRect(c)\n",
        "        cv2.rectangle(frame, (x, y), (x + w, y + h), (0, 255, 0), 2)\n",
        "        text = \"Dancer!\"\n",
        "    # draw the text and timestamp on the frame\n",
        "    #cv2.putText(frame, \"Room Status: {}\".format(text), (10, 20),\n",
        "\t#cv2.FONT_HERSHEY_SIMPLEX, 0.5, (0, 0, 255), 2)\n",
        "    #cv2.putText(frame, datetime.datetime.now().strftime(\"%A %d %B %Y %I:%M:%S%p\"),\n",
        "\t#\t(10, frame.shape[0] - 10), cv2.FONT_HERSHEY_SIMPLEX, 0.35, (0, 0, 255), 1)\n",
        "\t# show the frame and record if the user presses a key\n",
        "    #cv2_imshow(frame)\n",
        "    #cv2_imshow(thresh)\n",
        "    cv2_imshow(frameDelta)\n",
        "    #key = cv2.waitKey(1) & 0xFF\n",
        "    # if the `q` key is pressed, break from the lop\n",
        "    #if key == ord(\"q\"):\n",
        "    #    break\n",
        "# cleanup the camera and close any open windows\n",
        "#vs.release()\n",
        "#cv2.destroyAllWindows()\n",
        "print(frameCount)"
      ],
      "execution_count": null,
      "outputs": []
    }
  ]
}